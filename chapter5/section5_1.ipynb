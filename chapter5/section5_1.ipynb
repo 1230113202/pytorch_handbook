{
 "cells": [
  {
   "cell_type": "code",
   "execution_count": null,
   "metadata": {
    "collapsed": true
   },
   "outputs": [],
   "source": [
    "import torch\n",
    "import torch.nn as nn"
   ]
  },
  {
   "cell_type": "code",
   "execution_count": null,
   "metadata": {},
   "outputs": [],
   "source": [
    "x = torch.randn(1, 10, 2)   # LSTMの入力\n",
    "print('LSTM input:', x.shape)\n",
    "\n",
    "lstm_net = nn.LSTM(input_size=2, hidden_size=4, batch_first=True)\n",
    "\n",
    "y, _ = lstm_net(x)  # LSTMの出力\n",
    "print('LSTM output:', y.shape)\n",
    "\n",
    "x = torch.randn(20, 2)      # LSTMCellの入力\n",
    "h0 = torch.randn(20, 4)     # LSTMCellの中間層の初期値\n",
    "c0 = torch.randn(20, 4)     # LSTMCellのセル状態の初期値\n",
    "print('LSTMCell output:', x.shape)\n",
    "\n",
    "lstm_cell_net = nn.LSTMCell(input_size=2, hidden_size=4)\n",
    "\n",
    "y, _ = lstm_cell_net(x, (h0, c0))   # LSTMCellの出力\n",
    "print('LSTMCell output', y.shape)"
   ]
  }
 ],
 "metadata": {
  "kernelspec": {
   "display_name": "Python 2",
   "language": "python",
   "name": "python2"
  },
  "language_info": {
   "codemirror_mode": {
    "name": "ipython",
    "version": 2
   },
   "file_extension": ".py",
   "mimetype": "text/x-python",
   "name": "python",
   "nbconvert_exporter": "python",
   "pygments_lexer": "ipython2",
   "version": "2.7.6"
  }
 },
 "nbformat": 4,
 "nbformat_minor": 0
}
