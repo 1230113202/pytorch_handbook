{
 "cells": [
  {
   "cell_type": "code",
   "execution_count": 1,
   "metadata": {
    "colab": {
     "base_uri": "https://localhost:8080/",
     "height": 1058
    },
    "colab_type": "code",
    "executionInfo": {
     "elapsed": 80699,
     "status": "ok",
     "timestamp": 1544770161974,
     "user": {
      "displayName": "毛利拓也",
      "photoUrl": "",
      "userId": "08390690373224670154"
     },
     "user_tz": -540
    },
    "id": "YNNzI3Nei5_R",
    "outputId": "6c926eeb-8299-46e5-849c-35aaf05fe9fa"
   },
   "outputs": [
    {
     "name": "stdout",
     "output_type": "stream",
     "text": [
      "Collecting torch==0.4.1\n",
      "\u001b[?25l  Downloading https://files.pythonhosted.org/packages/49/0e/e382bcf1a6ae8225f50b99cc26effa2d4cc6d66975ccf3fa9590efcbedce/torch-0.4.1-cp36-cp36m-manylinux1_x86_64.whl (519.5MB)\n",
      "\u001b[K    100% |████████████████████████████████| 519.5MB 28kB/s \n",
      "tcmalloc: large alloc 1073750016 bytes == 0x59348000 @  0x7f19239022a4 0x591a07 0x5b5d56 0x502e9a 0x506859 0x502209 0x502f3d 0x506859 0x504c28 0x502540 0x502f3d 0x506859 0x504c28 0x502540 0x502f3d 0x506859 0x504c28 0x502540 0x502f3d 0x507641 0x502209 0x502f3d 0x506859 0x504c28 0x502540 0x502f3d 0x507641 0x504c28 0x502540 0x502f3d 0x507641\n",
      "\u001b[?25hInstalling collected packages: torch\n",
      "Successfully installed torch-0.4.1\n",
      "Collecting torchvision==0.2.1\n",
      "\u001b[?25l  Downloading https://files.pythonhosted.org/packages/ca/0d/f00b2885711e08bd71242ebe7b96561e6f6d01fdb4b9dcf4d37e2e13c5e1/torchvision-0.2.1-py2.py3-none-any.whl (54kB)\n",
      "\u001b[K    100% |████████████████████████████████| 61kB 3.7MB/s \n",
      "\u001b[?25hRequirement already satisfied: torch in /usr/local/lib/python3.6/dist-packages (from torchvision==0.2.1) (0.4.1)\n",
      "Collecting pillow>=4.1.1 (from torchvision==0.2.1)\n",
      "\u001b[?25l  Downloading https://files.pythonhosted.org/packages/62/94/5430ebaa83f91cc7a9f687ff5238e26164a779cca2ef9903232268b0a318/Pillow-5.3.0-cp36-cp36m-manylinux1_x86_64.whl (2.0MB)\n",
      "\u001b[K    100% |████████████████████████████████| 2.0MB 14.1MB/s \n",
      "\u001b[?25hRequirement already satisfied: six in /usr/local/lib/python3.6/dist-packages (from torchvision==0.2.1) (1.11.0)\n",
      "Requirement already satisfied: numpy in /usr/local/lib/python3.6/dist-packages (from torchvision==0.2.1) (1.14.6)\n",
      "Installing collected packages: pillow, torchvision\n",
      "  Found existing installation: Pillow 4.0.0\n",
      "    Uninstalling Pillow-4.0.0:\n",
      "      Successfully uninstalled Pillow-4.0.0\n",
      "Successfully installed pillow-5.3.0 torchvision-0.2.1\n",
      "Requirement already satisfied: numpy==1.14.6 in /usr/local/lib/python3.6/dist-packages (1.14.6)\n",
      "Requirement already satisfied: matplotlib==2.1.2 in /usr/local/lib/python3.6/dist-packages (2.1.2)\n",
      "Requirement already satisfied: cycler>=0.10 in /usr/local/lib/python3.6/dist-packages (from matplotlib==2.1.2) (0.10.0)\n",
      "Requirement already satisfied: numpy>=1.7.1 in /usr/local/lib/python3.6/dist-packages (from matplotlib==2.1.2) (1.14.6)\n",
      "Requirement already satisfied: pytz in /usr/local/lib/python3.6/dist-packages (from matplotlib==2.1.2) (2018.7)\n",
      "Requirement already satisfied: pyparsing!=2.0.4,!=2.1.2,!=2.1.6,>=2.0.1 in /usr/local/lib/python3.6/dist-packages (from matplotlib==2.1.2) (2.3.0)\n",
      "Requirement already satisfied: six>=1.10 in /usr/local/lib/python3.6/dist-packages (from matplotlib==2.1.2) (1.11.0)\n",
      "Requirement already satisfied: python-dateutil>=2.1 in /usr/local/lib/python3.6/dist-packages (from matplotlib==2.1.2) (2.5.3)\n",
      "Collecting pillow==5.0.0\n",
      "\u001b[?25l  Downloading https://files.pythonhosted.org/packages/9a/2f/86941111d108fd060190c994f15881283b98693c1c370e74885cfc470eb3/Pillow-5.0.0-cp36-cp36m-manylinux1_x86_64.whl (5.9MB)\n",
      "\u001b[K    100% |████████████████████████████████| 5.9MB 5.6MB/s \n",
      "\u001b[?25hInstalling collected packages: pillow\n",
      "  Found existing installation: Pillow 5.3.0\n",
      "    Uninstalling Pillow-5.3.0:\n",
      "      Successfully uninstalled Pillow-5.3.0\n",
      "Successfully installed pillow-5.0.0\n",
      "Collecting opencv-python==3.4.3.18\n",
      "\u001b[?25l  Downloading https://files.pythonhosted.org/packages/18/7f/c836c44ab30074a8486e30f8ea6adc8e6ac02332851ab6cc069e2ac35b84/opencv_python-3.4.3.18-cp36-cp36m-manylinux1_x86_64.whl (25.0MB)\n",
      "\u001b[K    100% |████████████████████████████████| 25.0MB 1.7MB/s \n",
      "\u001b[?25hRequirement already satisfied: numpy>=1.11.3 in /usr/local/lib/python3.6/dist-packages (from opencv-python==3.4.3.18) (1.14.6)\n",
      "Installing collected packages: opencv-python\n",
      "  Found existing installation: opencv-python 3.4.4.19\n",
      "    Uninstalling opencv-python-3.4.4.19:\n",
      "      Successfully uninstalled opencv-python-3.4.4.19\n",
      "Successfully installed opencv-python-3.4.3.18\n",
      "Collecting torchtext==0.3.1\n",
      "\u001b[?25l  Downloading https://files.pythonhosted.org/packages/c6/bc/b28b9efb4653c03e597ed207264eea45862b5260f48e9f010b5068d64db1/torchtext-0.3.1-py3-none-any.whl (62kB)\n",
      "\u001b[K    100% |████████████████████████████████| 71kB 4.5MB/s \n",
      "\u001b[?25hRequirement already satisfied: numpy in /usr/local/lib/python3.6/dist-packages (from torchtext==0.3.1) (1.14.6)\n",
      "Requirement already satisfied: tqdm in /usr/local/lib/python3.6/dist-packages (from torchtext==0.3.1) (4.28.1)\n",
      "Requirement already satisfied: requests in /usr/local/lib/python3.6/dist-packages (from torchtext==0.3.1) (2.18.4)\n",
      "Requirement already satisfied: torch in /usr/local/lib/python3.6/dist-packages (from torchtext==0.3.1) (0.4.1)\n",
      "Requirement already satisfied: urllib3<1.23,>=1.21.1 in /usr/local/lib/python3.6/dist-packages (from requests->torchtext==0.3.1) (1.22)\n",
      "Requirement already satisfied: certifi>=2017.4.17 in /usr/local/lib/python3.6/dist-packages (from requests->torchtext==0.3.1) (2018.11.29)\n",
      "Requirement already satisfied: chardet<3.1.0,>=3.0.2 in /usr/local/lib/python3.6/dist-packages (from requests->torchtext==0.3.1) (3.0.4)\n",
      "Requirement already satisfied: idna<2.7,>=2.5 in /usr/local/lib/python3.6/dist-packages (from requests->torchtext==0.3.1) (2.6)\n",
      "Installing collected packages: torchtext\n",
      "Successfully installed torchtext-0.3.1\n"
     ]
    }
   ],
   "source": [
    "# #colabを使う方はこちらを使用ください。\n",
    "# !pip install torch==0.4.1\n",
    "# !pip install torchvision==0.2.1\n",
    "# !pip install numpy==1.14.6\n",
    "# !pip install matplotlib==2.1.2\n",
    "# !pip install pillow==5.0.0\n",
    "# !pip install opencv-python==3.4.3.18\n",
    "# !pip install torchtext==0.3.1"
   ]
  },
  {
   "cell_type": "code",
   "execution_count": 2,
   "metadata": {
    "colab": {},
    "colab_type": "code",
    "id": "MdrHtd7PUx4k"
   },
   "outputs": [],
   "source": [
    "import torch\n",
    "import torch.nn as nn\n",
    "import torch.nn.init as init\n",
    "import torch.optim as optim\n",
    "import torch.nn.functional as F\n",
    "#torchtextを使用\n",
    "from torchtext import data\n",
    "from torchtext import vocab\n",
    "from torchtext import datasets\n",
    "\n",
    "%matplotlib inline\n",
    "import numpy as np\n",
    "from matplotlib import pyplot as plt"
   ]
  },
  {
   "cell_type": "code",
   "execution_count": 3,
   "metadata": {
    "colab": {
     "base_uri": "https://localhost:8080/",
     "height": 34
    },
    "colab_type": "code",
    "executionInfo": {
     "elapsed": 625,
     "status": "ok",
     "timestamp": 1544770165937,
     "user": {
      "displayName": "毛利拓也",
      "photoUrl": "",
      "userId": "08390690373224670154"
     },
     "user_tz": -540
    },
    "id": "iKImy2BUFhsV",
    "outputId": "e596c875-713f-4593-d03d-2ab9e50d92fd"
   },
   "outputs": [
    {
     "data": {
      "text/plain": [
       "device(type='cuda')"
      ]
     },
     "execution_count": 3,
     "metadata": {
      "tags": []
     },
     "output_type": "execute_result"
    }
   ],
   "source": [
    "# データとモデルに.to(device)を指定してgpuの計算資源を使用する。\n",
    "device = torch.device('cuda' if torch.cuda.is_available() else 'cpu')\n",
    "device"
   ]
  },
  {
   "cell_type": "markdown",
   "metadata": {
    "colab_type": "text",
    "id": "2jl3gAMtKwVZ"
   },
   "source": [
    "# LSTMを使用した文章分類：IMDB"
   ]
  },
  {
   "cell_type": "markdown",
   "metadata": {
    "colab_type": "text",
    "id": "EZCb_JRyP67N"
   },
   "source": [
    "## データの読み込み"
   ]
  },
  {
   "cell_type": "code",
   "execution_count": 0,
   "metadata": {
    "colab": {},
    "colab_type": "code",
    "id": "6dxJ19E3Fs90"
   },
   "outputs": [],
   "source": [
    "# ハイパーパラメータ\n",
    "batch_size = 32 #バッチサイズ\n",
    "output_size = 2 #fcの出力次元\n",
    "hidden_size = 256 #lstmの出力次元\n",
    "embedding_length = 300 #埋め込みベクトルの出力次元"
   ]
  },
  {
   "cell_type": "code",
   "execution_count": 5,
   "metadata": {
    "colab": {
     "base_uri": "https://localhost:8080/",
     "height": 105
    },
    "colab_type": "code",
    "executionInfo": {
     "elapsed": 46578,
     "status": "ok",
     "timestamp": 1544770290232,
     "user": {
      "displayName": "毛利拓也",
      "photoUrl": "",
      "userId": "08390690373224670154"
     },
     "user_tz": -540
    },
    "id": "eDKemNkqFuud",
    "outputId": "47c92ec3-1a28-4877-cafc-c1386f41ce18"
   },
   "outputs": [
    {
     "name": "stderr",
     "output_type": "stream",
     "text": [
      "aclImdb_v1.tar.gz:   0%|          | 213k/84.1M [00:00<00:45, 1.85MB/s]"
     ]
    },
    {
     "name": "stdout",
     "output_type": "stream",
     "text": [
      "downloading aclImdb_v1.tar.gz\n"
     ]
    },
    {
     "name": "stderr",
     "output_type": "stream",
     "text": [
      "aclImdb_v1.tar.gz: 100%|██████████| 84.1M/84.1M [00:01<00:00, 51.9MB/s]\n"
     ]
    },
    {
     "name": "stdout",
     "output_type": "stream",
     "text": [
      "17500\n",
      "7500\n",
      "25000\n"
     ]
    }
   ],
   "source": [
    "# 前処理用の機能のFieldをセットアップ\n",
    "# トークン化の方式を指定\n",
    "tokenize = lambda x: x.split()\n",
    "#Field\n",
    "#include_lengths=Trueでイテレータが長さも含めたタプルを返す\n",
    "#batch_first=Trueにしてる\n",
    "TEXT = data.Field(sequential=True, tokenize=tokenize, lower=True, include_lengths=True, batch_first=True, fix_length=200)\n",
    "#LabelField\n",
    "LABEL = data.LabelField()\n",
    "# IMDB映画レビューデータセット。映画レビューテキストデータとpositive, negativeのラベル。\n",
    "# splitsでデータを分割\n",
    "train_dataset, test_dataset = datasets.IMDB.splits(TEXT, LABEL)\n",
    "train_dataset, val_dataset = train_dataset.split()\n",
    "\n",
    "print(len(train_dataset))\n",
    "print(len(val_dataset))\n",
    "print(len(test_dataset))"
   ]
  },
  {
   "cell_type": "code",
   "execution_count": 11,
   "metadata": {
    "colab": {
     "base_uri": "https://localhost:8080/",
     "height": 125
    },
    "colab_type": "code",
    "executionInfo": {
     "elapsed": 2942,
     "status": "ok",
     "timestamp": 1544770841974,
     "user": {
      "displayName": "毛利拓也",
      "photoUrl": "",
      "userId": "08390690373224670154"
     },
     "user_tz": -540
    },
    "id": "SKNziQuL0zoW",
    "outputId": "07b0b082-be01-40f9-c2a4-cde99820af98"
   },
   "outputs": [
    {
     "name": "stdout",
     "output_type": "stream",
     "text": [
      "[('the', 224486), ('a', 111182), ('and', 110025), ('of', 100730), ('to', 93189), ('is', 72633), ('in', 63075), ('i', 49056), ('this', 48590), ('that', 46034)]\n",
      "Counter({'neg': 8860, 'pos': 8640})\n",
      "['<unk>', '<pad>', 'the', 'a', 'and', 'of', 'to', 'is', 'in', 'i']\n",
      "55406\n",
      "torch.Size([55406, 300])\n"
     ]
    }
   ],
   "source": [
    "# build_vocabで単語の辞書を構築。IDと単語の一覧が作成されます。\n",
    "# 学習済み埋め込みベクトルに適応\n",
    "# min_freqで出現頻度の低い単語を省く。\n",
    "TEXT.build_vocab(train_dataset, min_freq=3, vectors=vocab.GloVe(name='6B', dim=300))\n",
    "LABEL.build_vocab(train_dataset)\n",
    "\n",
    "# 単語の件数のtop10\n",
    "print(TEXT.vocab.freqs.most_common(10))\n",
    "# ラベルごと件数\n",
    "print(LABEL.vocab.freqs)\n",
    "# 単語\n",
    "print(TEXT.vocab.itos[:10])\n",
    "# BucketIteratorでバッチ単位にします。\n",
    "train_iter, val_iter, test_iter = data.BucketIterator.splits((train_dataset, val_dataset, test_dataset), batch_size=32, sort_key=lambda x: len(x.text), repeat=False, shuffle=True)\n",
    "\n",
    "#単語数\n",
    "vocab_size = len(TEXT.vocab)\n",
    "#単語数のサイズ\n",
    "print(vocab_size)\n",
    "#埋め込みベクトル\n",
    "word_embeddings = TEXT.vocab.vectors\n",
    "#埋め込みベクトル\n",
    "print(TEXT.vocab.vectors.size())\n"
   ]
  },
  {
   "cell_type": "code",
   "execution_count": 21,
   "metadata": {
    "colab": {
     "base_uri": "https://localhost:8080/",
     "height": 547
    },
    "colab_type": "code",
    "executionInfo": {
     "elapsed": 560,
     "status": "ok",
     "timestamp": 1544772205865,
     "user": {
      "displayName": "毛利拓也",
      "photoUrl": "",
      "userId": "08390690373224670154"
     },
     "user_tz": -540
    },
    "id": "wzxVN-gE01RB",
    "outputId": "6f68b4ff-f22d-4f1d-c058-5a629a47f69c"
   },
   "outputs": [
    {
     "name": "stdout",
     "output_type": "stream",
     "text": [
      "torch.Size([32, 200])\n",
      "torch.Size([32])\n",
      "torch.Size([32])\n",
      "１データ目の単語列を表示\n",
      "tensor([    0,  1822,   219,     2,   235,    24,     9,    25,   127,   721,\n",
      "            4,     9,   113,    67,    45,   175,    98,  5311,   516,     2,\n",
      "         1028,     2,   485,  3392,    38,   116,     2,   534,     5,     2,\n",
      "         2989,     2,  2189,     2,     0,  1044,     2,    58,    56,     0,\n",
      "         1489,   793,    77,   453,    38,    98,  2479,    22,     2,   304,\n",
      "         2075,   695,    52,    22,    41,   850,   276,   269,     5,  4283,\n",
      "            2,   323,     5,     2,   875,   348,    26,  1546, 33011,     1,\n",
      "            1,     1,     1,     1,     1,     1,     1,     1,     1,     1,\n",
      "            1,     1,     1,     1,     1,     1,     1,     1,     1,     1,\n",
      "            1,     1,     1,     1,     1,     1,     1,     1,     1,     1,\n",
      "            1,     1,     1,     1,     1,     1,     1,     1,     1,     1,\n",
      "            1,     1,     1,     1,     1,     1,     1,     1,     1,     1,\n",
      "            1,     1,     1,     1,     1,     1,     1,     1,     1,     1,\n",
      "            1,     1,     1,     1,     1,     1,     1,     1,     1,     1,\n",
      "            1,     1,     1,     1,     1,     1,     1,     1,     1,     1,\n",
      "            1,     1,     1,     1,     1,     1,     1,     1,     1,     1,\n",
      "            1,     1,     1,     1,     1,     1,     1,     1,     1,     1,\n",
      "            1,     1,     1,     1,     1,     1,     1,     1,     1,     1,\n",
      "            1,     1,     1,     1,     1,     1,     1,     1,     1,     1,\n",
      "            1,     1,     1,     1,     1,     1,     1,     1,     1,     1])\n",
      "tensor(69)\n",
      "tensor(0)\n",
      "['<unk>', 'terrible.', 'probably', 'the', 'worst', 'film', 'i', 'have', 'ever', 'seen.', 'and', 'i', 'did', 'see', 'some', 'pretty', 'bad', 'pictures,', 'throughout', 'the', 'years.', 'the', 'sound', 'sucks', 'so', 'does', 'the', 'quality', 'of', 'the', 'picture,', 'the', 'direction,', 'the', '<unk>', 'etc.', 'the', 'only', 'good', '<unk>', 'meaning', 'funny,', 'because', \"they're\", 'so', 'bad', ')', 'are', 'the', 'special', 'effects.', 'overall', 'there', 'are', 'about', '5', 'minutes', 'worth', 'of', 'laughs.', 'the', 'rest', 'of', 'the', 'flick', 'gives', 'you', 'brain', 'damage.', '<pad>', '<pad>', '<pad>', '<pad>', '<pad>', '<pad>', '<pad>', '<pad>', '<pad>', '<pad>', '<pad>', '<pad>', '<pad>', '<pad>', '<pad>', '<pad>', '<pad>', '<pad>', '<pad>', '<pad>', '<pad>', '<pad>', '<pad>', '<pad>', '<pad>', '<pad>', '<pad>', '<pad>', '<pad>', '<pad>', '<pad>', '<pad>', '<pad>', '<pad>', '<pad>', '<pad>', '<pad>', '<pad>', '<pad>', '<pad>', '<pad>', '<pad>', '<pad>', '<pad>', '<pad>', '<pad>', '<pad>', '<pad>', '<pad>', '<pad>', '<pad>', '<pad>', '<pad>', '<pad>', '<pad>', '<pad>', '<pad>', '<pad>', '<pad>', '<pad>', '<pad>', '<pad>', '<pad>', '<pad>', '<pad>', '<pad>', '<pad>', '<pad>', '<pad>', '<pad>', '<pad>', '<pad>', '<pad>', '<pad>', '<pad>', '<pad>', '<pad>', '<pad>', '<pad>', '<pad>', '<pad>', '<pad>', '<pad>', '<pad>', '<pad>', '<pad>', '<pad>', '<pad>', '<pad>', '<pad>', '<pad>', '<pad>', '<pad>', '<pad>', '<pad>', '<pad>', '<pad>', '<pad>', '<pad>', '<pad>', '<pad>', '<pad>', '<pad>', '<pad>', '<pad>', '<pad>', '<pad>', '<pad>', '<pad>', '<pad>', '<pad>', '<pad>', '<pad>', '<pad>', '<pad>', '<pad>', '<pad>', '<pad>', '<pad>', '<pad>', '<pad>', '<pad>', '<pad>', '<pad>', '<pad>', '<pad>', '<pad>', '<pad>', '<pad>', '<pad>', '<pad>']\n",
      "ラベル\n",
      "0\n"
     ]
    }
   ],
   "source": [
    "#データの確認\n",
    "for i, batch in enumerate(train_iter):\n",
    "    #バッチサイズ、単語列の長さ\n",
    "    #バッチサイズ３２、data.Fieldでfix_length=200を指定したので200文字。\n",
    "    print(batch.text[0].size())\n",
    "    #ラベル\n",
    "    print(batch.text[1].size())\n",
    "    print(batch.label.size())\n",
    "    print(\"１データ目の単語列を表示\")\n",
    "    print(batch.text[0][0])\n",
    "    print(batch.text[1][0])\n",
    "    print(batch.label[0])\n",
    "    print([TEXT.vocab.itos[data] for data in  batch.text[0][0].tolist()])\n",
    "    print(\"ラベル\")\n",
    "    print(batch.label[0].item())\n",
    "    break"
   ]
  },
  {
   "cell_type": "markdown",
   "metadata": {
    "colab_type": "text",
    "id": "IsEJwlJ0QATa"
   },
   "source": [
    "## ネットワークを定義"
   ]
  },
  {
   "cell_type": "code",
   "execution_count": 0,
   "metadata": {
    "colab": {},
    "colab_type": "code",
    "id": "N6BK4YCPWxaN"
   },
   "outputs": [],
   "source": [
    "class LstmClassifier(nn.Module):\n",
    "    def __init__(self, batch_size, hidden_size, output_size, vocab_size, embedding_length, weights):\n",
    "        super(LstmClassifier, self).__init__()\n",
    "        self.batch_size = batch_size\n",
    "        self.hidden_size = hidden_size\n",
    "        self.output_size = output_size\n",
    "        self.vocab_size = vocab_size\n",
    "        self.embed = nn.Embedding(vocab_size, embedding_length)\n",
    "        #学習済みの埋め込みベクトルを使用\n",
    "        self.embed.weight.data.copy_(weights)\n",
    "        self.lstm = nn.LSTM(embedding_length, hidden_size, batch_first=True) #batch_first=Trueにしてる\n",
    "        self.fc = nn.Linear(hidden_size, output_size)\n",
    "    \n",
    "    def forward(self, x):\n",
    "        x = self.embed(x)\n",
    "        # 初期隠れ状態とセル状態を設定\n",
    "        h0 = torch.zeros(1, self.batch_size, self.hidden_size).to(device)\n",
    "        c0 = torch.zeros(1, self.batch_size, self.hidden_size).to(device)\n",
    "        # LSTMを伝播する\n",
    "        # output_seqの出力形状：（バッチサイズ、シーケンス長、出力次元）\n",
    "        output_seq, (h_n, c_n) = self.lstm(x, (h0, c0))        \n",
    "        # 最後のタイムステップの隠れ状態をデコード\n",
    "        out = self.fc(h_n[-1]) \n",
    "        return out\n",
    "\n",
    "net = LstmClassifier(batch_size, hidden_size, output_size, vocab_size, embedding_length, word_embeddings)\n",
    "net = net.to(device)\n"
   ]
  },
  {
   "cell_type": "code",
   "execution_count": 0,
   "metadata": {
    "colab": {},
    "colab_type": "code",
    "id": "Bh02-Wyhdj8Y"
   },
   "outputs": [],
   "source": [
    "# 損失関数、最適化関数を定義\n",
    "criterion = nn.CrossEntropyLoss()\n",
    "optim = optim.Adam(filter(lambda p: p.requires_grad, net.parameters()))"
   ]
  },
  {
   "cell_type": "markdown",
   "metadata": {
    "colab_type": "text",
    "id": "7Un3NIoLQC52"
   },
   "source": [
    "## 学習"
   ]
  },
  {
   "cell_type": "code",
   "execution_count": 17,
   "metadata": {
    "colab": {
     "base_uri": "https://localhost:8080/",
     "height": 193
    },
    "colab_type": "code",
    "executionInfo": {
     "elapsed": 388476,
     "status": "ok",
     "timestamp": 1544771505733,
     "user": {
      "displayName": "毛利拓也",
      "photoUrl": "",
      "userId": "08390690373224670154"
     },
     "user_tz": -540
    },
    "id": "Dri34muf1arJ",
    "outputId": "309ee47c-0fab-4703-e598-de6be9be606e"
   },
   "outputs": [
    {
     "name": "stdout",
     "output_type": "stream",
     "text": [
      "Epoch [1/10], Loss: 0.0205, val_loss: 0.0194, val_acc: 0.6312\n",
      "Epoch [2/10], Loss: 0.0139, val_loss: 0.0132, val_acc: 0.8269\n",
      "Epoch [3/10], Loss: 0.0065, val_loss: 0.0129, val_acc: 0.8523\n",
      "Epoch [4/10], Loss: 0.0023, val_loss: 0.0150, val_acc: 0.8508\n",
      "Epoch [5/10], Loss: 0.0008, val_loss: 0.0181, val_acc: 0.8432\n",
      "Epoch [6/10], Loss: 0.0002, val_loss: 0.0217, val_acc: 0.8452\n",
      "Epoch [7/10], Loss: 0.0001, val_loss: 0.0274, val_acc: 0.8449\n",
      "Epoch [8/10], Loss: 0.0000, val_loss: 0.0279, val_acc: 0.8404\n",
      "Epoch [9/10], Loss: 0.0000, val_loss: 0.0333, val_acc: 0.8421\n",
      "Epoch [10/10], Loss: 0.0000, val_loss: 0.0359, val_acc: 0.8419\n"
     ]
    }
   ],
   "source": [
    "num_epochs = 10\n",
    "\n",
    "train_loss_list = []\n",
    "train_acc_list = []\n",
    "val_loss_list = []\n",
    "val_acc_list = []\n",
    "\n",
    "for epoch in range(num_epochs):\n",
    "    train_loss = 0\n",
    "    train_acc = 0\n",
    "    val_loss = 0\n",
    "    val_acc = 0\n",
    "    \n",
    "    #train\n",
    "    net.train()\n",
    "    for i, batch in enumerate(train_iter):\n",
    "      text = batch.text[0]\n",
    "      text = text.to(device)\n",
    "      if (text.size()[0] is not 32):\n",
    "        continue\n",
    "      labels = batch.label\n",
    "      labels = labels.to(device)\n",
    "      optim.zero_grad()\n",
    "      outputs = net(text)\n",
    "      loss = criterion(outputs, labels)\n",
    "      train_loss += loss.item()\n",
    "      train_acc += (outputs.max(1)[1] == labels).sum().item()\n",
    "      loss.backward()\n",
    "      optim.step()\n",
    "    avg_train_loss = train_loss / len(train_iter.dataset)\n",
    "    avg_train_acc = train_acc / len(train_iter.dataset)\n",
    "    \n",
    "    #val\n",
    "    net.eval()\n",
    "    with torch.no_grad():\n",
    "      for batch in val_iter:\n",
    "        text = batch.text[0]\n",
    "        text = text.to(device)\n",
    "        if (text.size()[0] is not 32):\n",
    "          continue\n",
    "        labels = batch.label\n",
    "        labels = labels.to(device)\n",
    "        outputs = net(text)\n",
    "        loss = criterion(outputs, labels)\n",
    "        val_loss += loss.item()\n",
    "        val_acc += (outputs.max(1)[1] == labels).sum().item()\n",
    "    avg_val_loss = val_loss / len(val_iter.dataset)\n",
    "    avg_val_acc = val_acc / len(val_iter.dataset)\n",
    "    \n",
    "    print ('Epoch [{}/{}], Loss: {loss:.4f}, val_loss: {val_loss:.4f}, val_acc: {val_acc:.4f}' \n",
    "                   .format(epoch+1, num_epochs, i+1, loss=avg_train_loss, val_loss=avg_val_loss, val_acc=avg_val_acc))\n",
    "    train_loss_list.append(avg_train_loss)\n",
    "    train_acc_list.append(avg_train_acc)\n",
    "    val_loss_list.append(avg_val_loss)\n",
    "    val_acc_list.append(avg_val_acc)\n"
   ]
  },
  {
   "cell_type": "code",
   "execution_count": 18,
   "metadata": {
    "colab": {
     "base_uri": "https://localhost:8080/",
     "height": 570
    },
    "colab_type": "code",
    "executionInfo": {
     "elapsed": 1061,
     "status": "ok",
     "timestamp": 1544771551594,
     "user": {
      "displayName": "毛利拓也",
      "photoUrl": "",
      "userId": "08390690373224670154"
     },
     "user_tz": -540
    },
    "id": "9YbaA0tO14NO",
    "outputId": "1928fbe8-dae4-43ff-9e05-9812c04fde3c"
   },
   "outputs": [
    {
     "data": {
      "image/png": "[encoded data removed]",
      "text/plain": [
       "<matplotlib.figure.Figure at 0x7fcb176b6940>"
      ]
     },
     "metadata": {
      "tags": []
     },
     "output_type": "display_data"
    },
    {
     "data": {
      "image/png": "[encoded data removed]",
      "text/plain": [
       "<matplotlib.figure.Figure at 0x7fcadb2fbda0>"
      ]
     },
     "metadata": {
      "tags": []
     },
     "output_type": "display_data"
    }
   ],
   "source": [
    "import matplotlib.pyplot as plt\n",
    "%matplotlib inline\n",
    "\n",
    "plt.figure()\n",
    "plt.plot(range(num_epochs), train_loss_list, color='blue', linestyle='-', label='train_loss')\n",
    "plt.plot(range(num_epochs), val_loss_list, color='green', linestyle='--', label='val_loss')\n",
    "plt.legend()\n",
    "plt.xlabel('epoch')\n",
    "plt.ylabel('loss')\n",
    "plt.title('Training and validation loss')\n",
    "plt.grid()\n",
    "\n",
    "plt.figure()\n",
    "plt.plot(range(num_epochs), train_acc_list, color='blue', linestyle='-', label='train_acc')\n",
    "plt.plot(range(num_epochs), val_acc_list, color='green', linestyle='--', label='val_acc')\n",
    "plt.legend()\n",
    "plt.xlabel('epoch')\n",
    "plt.ylabel('acc')\n",
    "plt.title('Training and validation accuracy')\n",
    "plt.grid()"
   ]
  },
  {
   "cell_type": "markdown",
   "metadata": {
    "colab_type": "text",
    "id": "5RRaHvhVQVkn"
   },
   "source": [
    "## 推論"
   ]
  },
  {
   "cell_type": "code",
   "execution_count": 19,
   "metadata": {
    "colab": {
     "base_uri": "https://localhost:8080/",
     "height": 34
    },
    "colab_type": "code",
    "executionInfo": {
     "elapsed": 14896,
     "status": "ok",
     "timestamp": 1544771575178,
     "user": {
      "displayName": "毛利拓也",
      "photoUrl": "",
      "userId": "08390690373224670154"
     },
     "user_tz": -540
    },
    "id": "3JFdqGOJ2F2o",
    "outputId": "fb1f4d7f-d93b-4f4c-8426-00c941106a4f"
   },
   "outputs": [
    {
     "name": "stdout",
     "output_type": "stream",
     "text": [
      "精度: 81.25400128040972 %\n"
     ]
    }
   ],
   "source": [
    "net.eval()\n",
    "with torch.no_grad():\n",
    "    total = 0\n",
    "    test_acc = 0\n",
    "    for batch in test_iter:\n",
    "        text = batch.text[0]\n",
    "        text = text.to(device)\n",
    "        if (text.size()[0] is not 32):\n",
    "          continue\n",
    "        labels = batch.label\n",
    "        labels = labels.to(device)\n",
    "\n",
    "        outputs = net(text)\n",
    "        test_acc += (outputs.max(1)[1] == labels).sum().item()\n",
    "        total += labels.size(0)\n",
    "    print('精度: {} %'.format(100 * test_acc / total)) \n",
    "\n"
   ]
  },
  {
   "cell_type": "code",
   "execution_count": 0,
   "metadata": {
    "colab": {},
    "colab_type": "code",
    "id": "JG26e8-03hfY"
   },
   "outputs": [],
   "source": []
  }
 ],
 "metadata": {
  "accelerator": "GPU",
  "colab": {
   "collapsed_sections": [],
   "name": "section5_3.ipynb",
   "provenance": [],
   "version": "0.3.2"
  },
  "kernelspec": {
   "display_name": "Python 3",
   "language": "python",
   "name": "python3"
  },
  "language_info": {
   "codemirror_mode": {
    "name": "ipython",
    "version": 3
   },
   "file_extension": ".py",
   "mimetype": "text/x-python",
   "name": "python",
   "nbconvert_exporter": "python",
   "pygments_lexer": "ipython3",
   "version": "3.6.5"
  }
 },
 "nbformat": 4,
 "nbformat_minor": 1
}
