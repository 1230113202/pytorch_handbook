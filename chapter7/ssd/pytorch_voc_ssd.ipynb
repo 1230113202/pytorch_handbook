{
  "nbformat": 4,
  "nbformat_minor": 0,
  "metadata": {
    "colab": {
      "name": "pytorch_voc_ssd.ipynb",
      "version": "0.3.2",
      "provenance": [],
      "collapsed_sections": []
    },
    "kernelspec": {
      "name": "python3",
      "display_name": "Python 3"
    },
    "accelerator": "GPU"
  },
  "cells": [
    {
      "metadata": {
        "id": "ukRAb4TDYQBQ",
        "colab_type": "code",
        "colab": {}
      },
      "cell_type": "code",
      "source": [
        "# http://pytorch.org/\n",
        "from os import path\n",
        "from wheel.pep425tags import get_abbr_impl, get_impl_ver, get_abi_tag\n",
        "platform = '{}{}-{}'.format(get_abbr_impl(), get_impl_ver(), get_abi_tag())\n",
        "\n",
        "accelerator = 'cu80' if path.exists('/opt/bin/nvidia-smi') else 'cpu'\n",
        "\n",
        "!pip install -q http://download.pytorch.org/whl/{accelerator}/torch-0.3.0.post4-{platform}-linux_x86_64.whl torchvision\n",
        "import torch"
      ],
      "execution_count": 0,
      "outputs": []
    },
    {
      "metadata": {
        "id": "dK0a2cJdm8Af",
        "colab_type": "code",
        "colab": {
          "base_uri": "https://localhost:8080/",
          "height": 34
        },
        "outputId": "2dbd7c5c-20c0-49cc-86fe-b01395ec215e"
      },
      "cell_type": "code",
      "source": [
        "# GPU設定を確認\n",
        "# ランタイム＞ランタイムのタイプを変更でGPUのチェックボックスをONにして実行する\n",
        "import torch\n",
        "torch.cuda.is_available()"
      ],
      "execution_count": 2,
      "outputs": [
        {
          "output_type": "execute_result",
          "data": {
            "text/plain": [
              "True"
            ]
          },
          "metadata": {
            "tags": []
          },
          "execution_count": 2
        }
      ]
    },
    {
      "metadata": {
        "id": "ibiiS_A4nJ_k",
        "colab_type": "code",
        "colab": {
          "base_uri": "https://localhost:8080/",
          "height": 34
        },
        "outputId": "e7687d33-2d85-4d3d-d9ed-145762e8c0d9"
      },
      "cell_type": "code",
      "source": [
        "# Google driveに接続\n",
        "from google.colab import drive\n",
        "drive.mount('/content/gdrive')"
      ],
      "execution_count": 3,
      "outputs": [
        {
          "output_type": "stream",
          "text": [
            "Mounted at /content/gdrive\n"
          ],
          "name": "stdout"
        }
      ]
    },
    {
      "metadata": {
        "id": "wUvW0tiznVy5",
        "colab_type": "code",
        "colab": {
          "base_uri": "https://localhost:8080/",
          "height": 34
        },
        "outputId": "25650b60-6059-441c-d35d-75cb31f7ec01"
      },
      "cell_type": "code",
      "source": [
        "cd /content/gdrive/My Drive/Colab Notebooks/pytorch_voc_ssd"
      ],
      "execution_count": 4,
      "outputs": [
        {
          "output_type": "stream",
          "text": [
            "/content/gdrive/My Drive/Colab Notebooks/pytorch_voc_ssd\n"
          ],
          "name": "stdout"
        }
      ]
    },
    {
      "metadata": {
        "id": "FNoiaSbinwGP",
        "colab_type": "code",
        "colab": {
          "base_uri": "https://localhost:8080/",
          "height": 51
        },
        "outputId": "52b0c29a-0ba9-4fb2-c7da-0904a2be11da"
      },
      "cell_type": "code",
      "source": [
        "ls"
      ],
      "execution_count": 5,
      "outputs": [
        {
          "output_type": "stream",
          "text": [
            "box_utils.py  \u001b[0m\u001b[01;34mlayers\u001b[0m/       pytorch_voc_ssd.ipynb  train.py  \u001b[01;34mweights\u001b[0m/\n",
            "\u001b[01;34mdata\u001b[0m/         \u001b[01;34m__pycache__\u001b[0m/  ssd.py                 \u001b[01;34mutils\u001b[0m/\n"
          ],
          "name": "stdout"
        }
      ]
    },
    {
      "metadata": {
        "id": "UPgpjDTaP9IJ",
        "colab_type": "text"
      },
      "cell_type": "markdown",
      "source": [
        ""
      ]
    },
    {
      "metadata": {
        "id": "icr3Bcpet_cG",
        "colab_type": "code",
        "colab": {}
      },
      "cell_type": "code",
      "source": [
        "from data import *\n",
        "from utils.augmentations import SSDAugmentation\n",
        "from layers.modules import MultiBoxLoss\n",
        "from ssd import build_ssd\n",
        "import os\n",
        "import sys\n",
        "import time\n",
        "import torch\n",
        "from torch.autograd import Variable\n",
        "import torch.nn as nn\n",
        "import torch.optim as optim\n",
        "import torch.backends.cudnn as cudnn\n",
        "import torch.nn.init as init\n",
        "import torch.utils.data as data\n",
        "import numpy as np\n",
        "import argparse"
      ],
      "execution_count": 0,
      "outputs": []
    },
    {
      "metadata": {
        "id": "sEtjyyivuKln",
        "colab_type": "code",
        "colab": {}
      },
      "cell_type": "code",
      "source": [
        "def str2bool(v):\n",
        "    return v.lower() in (\"yes\", \"true\", \"t\", \"1\")"
      ],
      "execution_count": 0,
      "outputs": []
    },
    {
      "metadata": {
        "id": "WiQV5Z6KQj-V",
        "colab_type": "code",
        "colab": {}
      },
      "cell_type": "code",
      "source": [
        "args = {'dataset':'VOC',\n",
        "        'dataset_root':VOC_ROOT,\n",
        "        'basenet':'vgg16_reducedfc.pth',\n",
        "        'batch_size':8,\n",
        "        'resume':'',\n",
        "        'start_iter':0,\n",
        "        'num_workers':4,\n",
        "        'cuda':True,\n",
        "        'lr':1e-3,\n",
        "        'momentum':0.9,\n",
        "        'weight_decay':5e-4,\n",
        "        'gamma':0.1,\n",
        "        'visdom':False,\n",
        "        'save_folder':'weights/'\n",
        "       }"
      ],
      "execution_count": 0,
      "outputs": []
    },
    {
      "metadata": {
        "id": "oWYEDUASQuhU",
        "colab_type": "code",
        "colab": {}
      },
      "cell_type": "code",
      "source": [
        "if torch.cuda.is_available():\n",
        "    if args['cuda']:\n",
        "        torch.set_default_tensor_type('torch.cuda.FloatTensor')\n",
        "    if not args['cuda']:\n",
        "        print(\"WARNING: It looks like you have a CUDA device, but aren't \" +\n",
        "              \"using CUDA.\\nRun with --cuda for optimal training speed.\")\n",
        "        torch.set_default_tensor_type('torch.FloatTensor')\n",
        "else:\n",
        "    torch.set_default_tensor_type('torch.FloatTensor')"
      ],
      "execution_count": 0,
      "outputs": []
    },
    {
      "metadata": {
        "id": "ltQLo_pnQ0Zk",
        "colab_type": "code",
        "colab": {}
      },
      "cell_type": "code",
      "source": [
        "if not os.path.exists(args['save_folder']):\n",
        "    os.mkdir(args['save_folder'])"
      ],
      "execution_count": 0,
      "outputs": []
    },
    {
      "metadata": {
        "id": "-l99I9gTQ3bq",
        "colab_type": "code",
        "colab": {}
      },
      "cell_type": "code",
      "source": [
        "cfg = voc\n",
        "dataset = VOCDetection(root=args['dataset_root'],\n",
        "                       transform=SSDAugmentation(cfg['min_dim'],\n",
        "                                                 MEANS))"
      ],
      "execution_count": 0,
      "outputs": []
    },
    {
      "metadata": {
        "id": "y-yIlvtmQ5cC",
        "colab_type": "code",
        "colab": {}
      },
      "cell_type": "code",
      "source": [
        "ssd_net = build_ssd('train', cfg['min_dim'], cfg['num_classes'])\n",
        "net = ssd_net"
      ],
      "execution_count": 0,
      "outputs": []
    },
    {
      "metadata": {
        "id": "RHAfsL58dD-e",
        "colab_type": "code",
        "colab": {}
      },
      "cell_type": "code",
      "source": [
        "if args['cuda']:\n",
        "    net = torch.nn.DataParallel(ssd_net)\n",
        "    cudnn.benchmark = True"
      ],
      "execution_count": 0,
      "outputs": []
    },
    {
      "metadata": {
        "id": "YwroXb1CT9TX",
        "colab_type": "code",
        "colab": {
          "base_uri": "https://localhost:8080/",
          "height": 34
        },
        "outputId": "b6ccfc3f-0010-4b10-e2fa-b89977b0065f"
      },
      "cell_type": "code",
      "source": [
        "if args['resume']:\n",
        "    print('Resuming training, loading {}...'.format(args['resume']))\n",
        "    ssd_net.load_weights(args['resume'])\n",
        "else:\n",
        "    vgg_weights = torch.load(args['save_folder'] + args['basenet'])\n",
        "    print('Loading base network...')\n",
        "    ssd_net.vgg.load_state_dict(vgg_weights)"
      ],
      "execution_count": 14,
      "outputs": [
        {
          "output_type": "stream",
          "text": [
            "Loading base network...\n"
          ],
          "name": "stdout"
        }
      ]
    },
    {
      "metadata": {
        "id": "P7gAf72-UF8o",
        "colab_type": "code",
        "colab": {}
      },
      "cell_type": "code",
      "source": [
        "if args['cuda']:\n",
        "    net = net.cuda()"
      ],
      "execution_count": 0,
      "outputs": []
    },
    {
      "metadata": {
        "id": "RoXXclmoUMxB",
        "colab_type": "code",
        "colab": {
          "base_uri": "https://localhost:8080/",
          "height": 34
        },
        "outputId": "9ddc88f8-0313-47b1-a086-b1caad67d0ea"
      },
      "cell_type": "code",
      "source": [
        "def xavier(param):\n",
        "    init.xavier_uniform(param)\n",
        "\n",
        "def weights_init(m):\n",
        "    if isinstance(m, nn.Conv2d):\n",
        "        xavier(m.weight.data)\n",
        "        m.bias.data.zero_()\n",
        "\n",
        "if not args['resume']:\n",
        "    print('Initializing weights...')\n",
        "    # initialize newly added layers' weights with xavier method\n",
        "    ssd_net.extras.apply(weights_init)\n",
        "    ssd_net.loc.apply(weights_init)\n",
        "    ssd_net.conf.apply(weights_init)"
      ],
      "execution_count": 16,
      "outputs": [
        {
          "output_type": "stream",
          "text": [
            "Initializing weights...\n"
          ],
          "name": "stdout"
        }
      ]
    },
    {
      "metadata": {
        "id": "6CYNS2LSUWCy",
        "colab_type": "code",
        "colab": {}
      },
      "cell_type": "code",
      "source": [
        "optimizer = optim.SGD(net.parameters(), lr=args['lr'], momentum=args['momentum'],\n",
        "                      weight_decay=args['weight_decay'])\n",
        "criterion = MultiBoxLoss(cfg['num_classes'], 0.5, True, 0, True, 3, 0.5,\n",
        "                         False, args['cuda'])"
      ],
      "execution_count": 0,
      "outputs": []
    },
    {
      "metadata": {
        "id": "04iQnv9rUa3y",
        "colab_type": "code",
        "colab": {
          "base_uri": "https://localhost:8080/",
          "height": 105
        },
        "outputId": "146f57ce-e3e7-47b9-e43c-777de67f2b37"
      },
      "cell_type": "code",
      "source": [
        "net.train()\n",
        "# loss counters\n",
        "loc_loss = 0\n",
        "conf_loss = 0\n",
        "epoch = 0\n",
        "print('Loading the dataset...')\n",
        "\n",
        "epoch_size = len(dataset) // args['batch_size']\n",
        "print('Training SSD on:', dataset.name)\n",
        "print('Using the specified args:')\n",
        "print(args)\n",
        "\n",
        "step_index = 0"
      ],
      "execution_count": 18,
      "outputs": [
        {
          "output_type": "stream",
          "text": [
            "Loading the dataset...\n",
            "Training SSD on: VOC0712\n",
            "Using the specified args:\n",
            "{'dataset': 'VOC', 'dataset_root': '/content/gdrive/My Drive/Colab Notebooks/pytorch_voc_ssd/data/VOCdevkit', 'basenet': 'vgg16_reducedfc.pth', 'batch_size': 16, 'resume': '', 'start_iter': 0, 'num_workers': 4, 'cuda': True, 'lr': 0.001, 'momentum': 0.9, 'weight_decay': 0.0005, 'gamma': 0.1, 'visdom': False, 'save_folder': 'weights/'}\n"
          ],
          "name": "stdout"
        }
      ]
    },
    {
      "metadata": {
        "id": "5-RZGtOwUdtT",
        "colab_type": "code",
        "colab": {}
      },
      "cell_type": "code",
      "source": [
        "data_loader = data.DataLoader(dataset, args['batch_size'],\n",
        "                              num_workers=args['num_workers'],\n",
        "                              shuffle=True, collate_fn=detection_collate,\n",
        "                              pin_memory=True)"
      ],
      "execution_count": 0,
      "outputs": []
    },
    {
      "metadata": {
        "id": "BeiGH8xvUhdO",
        "colab_type": "code",
        "colab": {}
      },
      "cell_type": "code",
      "source": [
        "def adjust_learning_rate(optimizer, gamma, step):\n",
        "    \"\"\"Sets the learning rate to the initial LR decayed by 10 at every\n",
        "        specified step\n",
        "    # Adapted from PyTorch Imagenet example:\n",
        "    # https://github.com/pytorch/examples/blob/master/imagenet/main.py\n",
        "    \"\"\"\n",
        "    lr = args['lr'] * (gamma ** (step))\n",
        "    for param_group in optimizer.param_groups:\n",
        "        param_group['lr'] = lr\n",
        "\n",
        "\n",
        "def xavier(param):\n",
        "    init.xavier_uniform(param)\n",
        "\n",
        "\n",
        "def weights_init(m):\n",
        "    if isinstance(m, nn.Conv2d):\n",
        "        xavier(m.weight.data)\n",
        "        m.bias.data.zero_()"
      ],
      "execution_count": 0,
      "outputs": []
    },
    {
      "metadata": {
        "id": "U1fd8Y2dUnGY",
        "colab_type": "code",
        "colab": {}
      },
      "cell_type": "code",
      "source": [
        "batch_iterator = None\n",
        "for iteration in range(args['start_iter'], cfg['max_iter']):\n",
        "    if (not batch_iterator) or (iteration % epoch_size ==0):\n",
        "        batch_iterator = iter(data_loader)\n",
        "        loc_loss = 0\n",
        "        conf_loss = 0\n",
        "        epoch += 1\n",
        "\n",
        "# mod\n",
        "\n",
        "    if iteration in cfg['lr_steps']:\n",
        "        step_index += 1\n",
        "        adjust_learning_rate(optimizer, args['gamma'], step_index)\n",
        "\n",
        "    # load train data\n",
        "    images, targets = next(batch_iterator)\n",
        "\n",
        "    if args['cuda']:\n",
        "        images = Variable(images.cuda())\n",
        "        targets = [Variable(ann.cuda(), volatile=True) for ann in targets]\n",
        "    else:\n",
        "        images = Variable(images)\n",
        "        targets = [Variable(ann, volatile=True) for ann in targets]\n",
        "    # forward\n",
        "    t0 = time.time()\n",
        "    out = net(images)\n",
        "    # backprop\n",
        "    optimizer.zero_grad()\n",
        "    loss_l, loss_c = criterion(out, targets)\n",
        "    loss = loss_l + loss_c\n",
        "    loss.backward()\n",
        "    optimizer.step()\n",
        "    t1 = time.time()\n",
        "    loc_loss += loss_l.data[0]\n",
        "    conf_loss += loss_c.data[0]\n",
        "\n",
        "    if iteration % 10 == 0:\n",
        "        print('timer: %.4f sec.' % (t1 - t0))\n",
        "        print('iter ' + repr(iteration) + ' || Loss: %.4f ||' % (loss.data[0]), end=' ')\n",
        "\n",
        "#    if args.visdom:\n",
        "#        update_vis_plot(iteration, loss_l.data[0], loss_c.data[0],\n",
        "#                        iter_plot, epoch_plot, 'append')\n",
        "\n",
        "#    if iteration != 0 and iteration % 5000 == 0:\n",
        "#        print('Saving state, iter:', iteration)\n",
        "#        torch.save(ssd_net.state_dict(), 'weights/ssd300_COCO_' +\n",
        "#                   repr(iteration) + '.pth')\n",
        "torch.save(ssd_net.state_dict(),\n",
        "           args['save_folder'] + '' + args['dataset'] + '.pth')\n"
      ],
      "execution_count": 0,
      "outputs": []
    },
    {
      "metadata": {
        "id": "Q7rVHbN6UrTX",
        "colab_type": "code",
        "colab": {}
      },
      "cell_type": "code",
      "source": [
        ""
      ],
      "execution_count": 0,
      "outputs": []
    },
    {
      "metadata": {
        "id": "IObm2hcnlN21",
        "colab_type": "code",
        "colab": {}
      },
      "cell_type": "code",
      "source": [
        ""
      ],
      "execution_count": 0,
      "outputs": []
    }
  ]
}