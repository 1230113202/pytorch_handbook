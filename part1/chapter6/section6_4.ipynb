{
 "cells": [
  {
   "cell_type": "code",
   "execution_count": 0,
   "metadata": {
    "id": "zpRXnZ3qcxMl",
    "colab_type": "code",
    "outputId": "d231afd3-67ad-4c38-9193-7ff5ead9789c",
    "executionInfo": {
     "status": "ok",
     "timestamp": 1.544014884808E12,
     "user_tz": -540.0,
     "elapsed": 82302.0,
     "user": {
      "displayName": "毛利拓也",
      "photoUrl": "",
      "userId": "08390690373224670154"
     }
    },
    "colab": {
     "base_uri": "https://localhost:8080/",
     "height": 846.0
    }
   },
   "outputs": [
    {
     "name": "stdout",
     "output_type": "stream",
     "text": [
      "Collecting torch==0.4.1\n",
      "\u001b[?25l  Downloading https://files.pythonhosted.org/packages/06/a7/6a173738dd6be014ebf9ba6f0b441d91b113b1506a98e10da4ff60994b54/torch-0.4.1-cp27-cp27mu-manylinux1_x86_64.whl (519.5MB)\n",
      "\u001b[K    100% |████████████████████████████████| 519.5MB 24kB/s \n",
      "tcmalloc: large alloc 1073750016 bytes == 0x55c871a86000 @  0x7fd8e041b2a4 0x55c817ebdf18 0x55c817fb1a85 0x55c817ed14ca 0x55c817ed6232 0x55c817eced0a 0x55c817ed65fe 0x55c817eced0a 0x55c817ed65fe 0x55c817eced0a 0x55c817ed65fe 0x55c817eced0a 0x55c817ed6c38 0x55c817eced0a 0x55c817ed65fe 0x55c817eced0a 0x55c817ed65fe 0x55c817ed6232 0x55c817ed6232 0x55c817eced0a 0x55c817ed6c38 0x55c817ed6232 0x55c817eced0a 0x55c817ed6c38 0x55c817eced0a 0x55c817ed6c38 0x55c817eced0a 0x55c817ed65fe 0x55c817eced0a 0x55c817ece629 0x55c817eff61f\n",
      "\u001b[?25hInstalling collected packages: torch\n",
      "Successfully installed torch-0.4.1\n",
      "Collecting torchvision==0.2.1\n",
      "  Using cached https://files.pythonhosted.org/packages/ca/0d/f00b2885711e08bd71242ebe7b96561e6f6d01fdb4b9dcf4d37e2e13c5e1/torchvision-0.2.1-py2.py3-none-any.whl\n",
      "Requirement already satisfied: six in /usr/local/lib/python2.7/dist-packages (from torchvision==0.2.1) (1.11.0)\n",
      "Requirement already satisfied: numpy in /usr/local/lib/python2.7/dist-packages (from torchvision==0.2.1) (1.14.6)\n",
      "Requirement already satisfied: torch in /usr/local/lib/python2.7/dist-packages (from torchvision==0.2.1) (0.4.1)\n",
      "Collecting pillow>=4.1.1 (from torchvision==0.2.1)\n",
      "\u001b[?25l  Downloading https://files.pythonhosted.org/packages/9a/f6/3b3c82c5c75cae471e02fb584136168d732e17ae9db2d21c5dc82f9790f8/Pillow-5.3.0-cp27-cp27mu-manylinux1_x86_64.whl (2.0MB)\n",
      "\u001b[K    100% |████████████████████████████████| 2.0MB 12.6MB/s \n",
      "\u001b[?25hInstalling collected packages: pillow, torchvision\n",
      "  Found existing installation: Pillow 4.0.0\n",
      "    Uninstalling Pillow-4.0.0:\n",
      "      Successfully uninstalled Pillow-4.0.0\n",
      "Successfully installed pillow-5.3.0 torchvision-0.2.1\n",
      "Requirement already satisfied: numpy==1.14.6 in /usr/local/lib/python2.7/dist-packages (1.14.6)\n",
      "Requirement already satisfied: matplotlib==2.1.2 in /usr/local/lib/python2.7/dist-packages (2.1.2)\n",
      "Requirement already satisfied: cycler>=0.10 in /usr/local/lib/python2.7/dist-packages (from matplotlib==2.1.2) (0.10.0)\n",
      "Requirement already satisfied: numpy>=1.7.1 in /usr/local/lib/python2.7/dist-packages (from matplotlib==2.1.2) (1.14.6)\n",
      "Requirement already satisfied: backports.functools-lru-cache in /usr/local/lib/python2.7/dist-packages (from matplotlib==2.1.2) (1.5)\n",
      "Requirement already satisfied: subprocess32 in /usr/local/lib/python2.7/dist-packages (from matplotlib==2.1.2) (3.5.3)\n",
      "Requirement already satisfied: pytz in /usr/local/lib/python2.7/dist-packages (from matplotlib==2.1.2) (2018.7)\n",
      "Requirement already satisfied: six>=1.10 in /usr/local/lib/python2.7/dist-packages (from matplotlib==2.1.2) (1.11.0)\n",
      "Requirement already satisfied: python-dateutil>=2.1 in /usr/local/lib/python2.7/dist-packages (from matplotlib==2.1.2) (2.5.3)\n",
      "Requirement already satisfied: pyparsing!=2.0.4,!=2.1.2,!=2.1.6,>=2.0.1 in /usr/local/lib/python2.7/dist-packages (from matplotlib==2.1.2) (2.3.0)\n",
      "Collecting pillow==5.0.0\n",
      "\u001b[?25l  Downloading https://files.pythonhosted.org/packages/89/bd/1d9a10f3e8157b7df275740b0782a892a0db387f8286620110c41e5146c7/Pillow-5.0.0-cp27-cp27mu-manylinux1_x86_64.whl (5.8MB)\n",
      "\u001b[K    100% |████████████████████████████████| 5.9MB 5.3MB/s \n",
      "\u001b[?25hInstalling collected packages: pillow\n",
      "  Found existing installation: Pillow 5.3.0\n",
      "    Uninstalling Pillow-5.3.0:\n",
      "      Successfully uninstalled Pillow-5.3.0\n",
      "Successfully installed pillow-5.0.0\n",
      "Collecting opencv-python==3.4.3.18\n",
      "\u001b[?25l  Downloading https://files.pythonhosted.org/packages/51/3d/9b10d7159e10ac87bd6c1b403dbc72b1240e18da51f9d56f50bb06f75d15/opencv_python-3.4.3.18-cp27-cp27mu-manylinux1_x86_64.whl (25.0MB)\n",
      "\u001b[K    100% |████████████████████████████████| 25.0MB 1.1MB/s \n",
      "\u001b[?25hRequirement already satisfied: numpy>=1.11.1 in /usr/local/lib/python2.7/dist-packages (from opencv-python==3.4.3.18) (1.14.6)\n",
      "Installing collected packages: opencv-python\n",
      "  Found existing installation: opencv-python 3.4.4.19\n",
      "    Uninstalling opencv-python-3.4.4.19:\n",
      "      Successfully uninstalled opencv-python-3.4.4.19\n",
      "Successfully installed opencv-python-3.4.3.18\n"
     ]
    }
   ],
   "source": [
    "#colabを使う方はこちらを使用ください。\n",
    "!pip install torch==0.4.1\n",
    "!pip install torchvision==0.2.1\n",
    "!pip install numpy==1.14.6\n",
    "!pip install matplotlib==2.1.2\n",
    "!pip install pillow==5.0.0\n",
    "!pip install opencv-python==3.4.3.18"
   ]
  },
  {
   "cell_type": "code",
   "execution_count": 0,
   "metadata": {
    "id": "11FPu6O9dAjw",
    "colab_type": "code",
    "outputId": "ba671363-dac2-47e8-923e-6919aeb8a3d9",
    "executionInfo": {
     "status": "ok",
     "timestamp": 1.544014947705E12,
     "user_tz": -540.0,
     "elapsed": 574.0,
     "user": {
      "displayName": "毛利拓也",
      "photoUrl": "",
      "userId": "08390690373224670154"
     }
    },
    "colab": {
     "base_uri": "https://localhost:8080/",
     "height": 34.0
    }
   },
   "outputs": [
    {
     "name": "stdout",
     "output_type": "stream",
     "text": [
      "Drive already mounted at /content/gdrive; to attempt to forcibly remount, call drive.mount(\"/content/gdrive\", force_remount=True).\n"
     ]
    }
   ],
   "source": [
    "#colabを使う方はこちらを使用ください。\n",
    "#Google Driveにマウント\n",
    "from google.colab import drive\n",
    "drive.mount('/content/gdrive')"
   ]
  },
  {
   "cell_type": "code",
   "execution_count": 0,
   "metadata": {
    "id": "MIOat2A3dH7m",
    "colab_type": "code",
    "outputId": "990a3ade-9ee4-4d08-e56f-4a188ce0cfd4",
    "executionInfo": {
     "status": "ok",
     "timestamp": 1.544014953383E12,
     "user_tz": -540.0,
     "elapsed": 565.0,
     "user": {
      "displayName": "毛利拓也",
      "photoUrl": "",
      "userId": "08390690373224670154"
     }
    },
    "colab": {
     "base_uri": "https://localhost:8080/",
     "height": 34.0
    }
   },
   "outputs": [
    {
     "name": "stdout",
     "output_type": "stream",
     "text": [
      "/content/gdrive/My Drive/Colab Notebooks/pytorch_handbook/part1/chapter6\n"
     ]
    }
   ],
   "source": [
    "#colabを使う方はこちらを使用ください。\n",
    "cd /content/gdrive/My Drive/Colab Notebooks/pytorch_handbook/part1/chapter6/"
   ]
  },
  {
   "cell_type": "code",
   "execution_count": 0,
   "metadata": {
    "id": "34z3rH24dKhu",
    "colab_type": "code",
    "outputId": "ac2088c5-5d7d-49ef-f581-73f3ff52b358",
    "executionInfo": {
     "status": "ok",
     "timestamp": 1.544014956816E12,
     "user_tz": -540.0,
     "elapsed": 2686.0,
     "user": {
      "displayName": "毛利拓也",
      "photoUrl": "",
      "userId": "08390690373224670154"
     }
    },
    "colab": {
     "base_uri": "https://localhost:8080/",
     "height": 87.0
    }
   },
   "outputs": [
    {
     "name": "stdout",
     "output_type": "stream",
     "text": [
      "_DS_Store\t    __pycache__       section6_3_wk.ipynb  train_lsgan.py\n",
      "_gitkeep\t    result_cgan       section6_4.ipynb\n",
      "_ipynb_checkpoints  result_lsgan      section6_4_wk.ipynb\n",
      "net.py\t\t    section6_3.ipynb  train_cgan.py\n"
     ]
    }
   ],
   "source": [
    "#colabを使う方はこちらを使用ください。\n",
    "!ls"
   ]
  },
  {
   "cell_type": "code",
   "execution_count": 0,
   "metadata": {
    "id": "pKAU9MdKEGRu",
    "colab_type": "code",
    "colab": {}
   },
   "outputs": [],
   "source": [
    "import os\n",
    "import random\n",
    "import numpy as np\n",
    "\n",
    "import torch.nn as nn\n",
    "import torch.optim as optim\n",
    "import torch.utils.data\n",
    "import torchvision.datasets as dset\n",
    "import torchvision.transforms as transforms\n",
    "import torchvision.utils as vutils\n",
    "\n",
    "from net import weights_init, Generator, Discriminator"
   ]
  },
  {
   "cell_type": "code",
   "execution_count": 0,
   "metadata": {
    "id": "ZDBmvWisEGRy",
    "colab_type": "code",
    "colab": {}
   },
   "outputs": [],
   "source": [
    "def onehot_encode(label, device, n_class=10):\n",
    "    \"\"\"\n",
    "    カテゴリカル変数のラベルをOne-Hoe形式に変換する\n",
    "    :param label: 変換対象のラベル\n",
    "    :param device: 学習に使用するデバイス。CPUあるいはGPU\n",
    "    :param n_class: ラベルのクラス数\n",
    "    :return:\n",
    "    \"\"\"\n",
    "    eye = torch.eye(n_class, device=device)\n",
    "    # ランダムベクトルあるいは画像と連結するために(B, c_class, 1, 1)のTensorにして戻す\n",
    "    return eye[label].view(-1, n_class, 1, 1)   "
   ]
  },
  {
   "cell_type": "code",
   "execution_count": 0,
   "metadata": {
    "id": "GO9cyPyNEGR0",
    "colab_type": "code",
    "colab": {}
   },
   "outputs": [],
   "source": [
    "def concat_image_label(image, label, device, n_class=10):\n",
    "    \"\"\"\n",
    "    画像とラベルを連結する\n",
    "    :param image:　画像\n",
    "    :param label: ラベル\n",
    "    :param device: 学習に使用するデバイス。CPUあるいはGPU\n",
    "    :param n_class: ラベルのクラス数\n",
    "    :return:　画像とラベルをチャネル方向に連結したTensor\n",
    "    \"\"\"\n",
    "    B, C, H, W = image.shape    # 画像Tensorの大きさを取得\n",
    "    \n",
    "    oh_label = onehot_encode(label, device)         # ラベルをOne-Hotベクトル化\n",
    "    oh_label = oh_label.expand(B, n_class, H, W)    # 画像のサイズに合わせるようラベルを拡張する\n",
    "    return torch.cat((image, oh_label), dim=1)      # 画像とラベルをチャネル方向（dim=1）で連結する"
   ]
  },
  {
   "cell_type": "code",
   "execution_count": 0,
   "metadata": {
    "id": "iVRqLztIEGR3",
    "colab_type": "code",
    "colab": {}
   },
   "outputs": [],
   "source": [
    "def concat_noise_label(noise, label, device):\n",
    "    \"\"\"\n",
    "    ノイズ（ランダムベクトル）とラベルを連結する\n",
    "    :param noise: ノイズ\n",
    "    :param label: ラベル\n",
    "    :param device: 学習に使用するデバイス。CPUあるいはGPU\n",
    "    :return:　ノイズとラベルを連結したTensor\n",
    "    \"\"\"\n",
    "    oh_label = onehot_encode(label, device)     # ラベルをOne-Hotベクトル化\n",
    "    return torch.cat((noise, oh_label), dim=1)  # ノイズとラベルをチャネル方向（dim=1）で連結する"
   ]
  },
  {
   "cell_type": "code",
   "execution_count": 0,
   "metadata": {
    "id": "ylkPJXzgEGR6",
    "colab_type": "code",
    "colab": {}
   },
   "outputs": [],
   "source": [
    "workers = 2\n",
    "batch_size = 50\n",
    "nz = 100\n",
    "nch_g = 64\n",
    "nch_d = 64\n",
    "n_epoch = 200\n",
    "lr = 0.0002\n",
    "beta1 = 0.5\n",
    "outf = './result_cgan'\n",
    "display_interval = 100\n",
    "\n",
    "try:\n",
    "    os.makedirs(outf)\n",
    "except OSError:\n",
    "    pass\n",
    "\n",
    "random.seed(0)\n",
    "np.random.seed(0)\n",
    "torch.manual_seed(0)"
   ]
  },
  {
   "cell_type": "code",
   "execution_count": 0,
   "metadata": {
    "id": "TXYnAcifEGR8",
    "colab_type": "code",
    "colab": {}
   },
   "outputs": [],
   "source": [
    "trainset = dset.STL10(root='../../dataset/stl10_root', download=True, split='train',\n",
    "                      transform=transforms.Compose([\n",
    "                          transforms.RandomResizedCrop(64, scale=(88/96, 1.0), ratio=(1., 1.)),\n",
    "                          transforms.RandomHorizontalFlip(),\n",
    "                          transforms.ColorJitter(brightness=0.05, contrast=0.05, saturation=0.05, hue=0.05),\n",
    "                          transforms.ToTensor(),\n",
    "                          transforms.Normalize((0.5, 0.5, 0.5), (0.5, 0.5, 0.5)),\n",
    "                      ]))   # ラベルを使用するのでunlabeledを含めない\n",
    "testset = dset.STL10(root='../../dataset/stl10_root', download=True, split='test',\n",
    "                     transform=transforms.Compose([\n",
    "                         transforms.RandomResizedCrop(64, scale=(88/96, 1.0), ratio=(1., 1.)),\n",
    "                         transforms.RandomHorizontalFlip(),\n",
    "                         transforms.ColorJitter(brightness=0.05, contrast=0.05, saturation=0.05, hue=0.05),\n",
    "                         transforms.ToTensor(),\n",
    "                         transforms.Normalize((0.5, 0.5, 0.5), (0.5, 0.5, 0.5)),\n",
    "                     ]))\n",
    "dataset = trainset + testset\n",
    "\n",
    "dataloader = torch.utils.data.DataLoader(dataset, batch_size=batch_size,\n",
    "                                         shuffle=True, num_workers=int(workers))\n",
    "\n",
    "device = torch.device(\"cuda:0\" if torch.cuda.is_available() else \"cpu\")\n",
    "print('device:', device)"
   ]
  },
  {
   "cell_type": "code",
   "execution_count": 0,
   "metadata": {
    "id": "ZYz-08POEGR_",
    "colab_type": "code",
    "colab": {}
   },
   "outputs": [],
   "source": [
    "# 生成器G。ランダムベクトルとラベルを連結したベクトルから贋作画像を生成する\n",
    "netG = Generator(nz=nz+10, nch_g=nch_g).to(device)   # 入力ベクトルの次元は、ランダムベクトルの次元nzにクラス数10を加算したもの\n",
    "netG.apply(weights_init)\n",
    "print(netG)"
   ]
  },
  {
   "cell_type": "code",
   "execution_count": 0,
   "metadata": {
    "id": "MSc1GjkIEGSC",
    "colab_type": "code",
    "colab": {}
   },
   "outputs": [],
   "source": [
    "# 識別器D。画像とラベルを連結したTensorが、元画像か贋作画像かを識別する\n",
    "netD = Discriminator(nch=3+10, nch_d=nch_d).to(device)   # 入力Tensorのチャネル数は、画像のチャネル数3にクラス数10を加算したもの\n",
    "netD.apply(weights_init)\n",
    "print(netD)"
   ]
  },
  {
   "cell_type": "code",
   "execution_count": 0,
   "metadata": {
    "id": "WIOjtuvSEGSG",
    "colab_type": "code",
    "colab": {}
   },
   "outputs": [],
   "source": [
    "criterion = nn.MSELoss()\n",
    "\n",
    "optimizerD = optim.Adam(netD.parameters(), lr=lr, betas=(beta1, 0.999), weight_decay=1e-5)\n",
    "optimizerG = optim.Adam(netG.parameters(), lr=lr, betas=(beta1, 0.999), weight_decay=1e-5)\n",
    "\n",
    "fixed_noise = torch.randn(batch_size, nz, 1, 1, device=device)\n",
    "\n",
    "fixed_label = [i for i in range(10)] * (batch_size // 10)  # 確認用のラベル。0〜9のラベルの繰り返し\n",
    "fixed_label = torch.tensor(fixed_label, dtype=torch.long, device=device)\n",
    "\n",
    "fixed_noise_label = concat_noise_label(fixed_noise, fixed_label, device)  # 確認用のノイズとラベルを連結"
   ]
  },
  {
   "cell_type": "code",
   "execution_count": 0,
   "metadata": {
    "id": "n4unIheuEGSJ",
    "colab_type": "code",
    "colab": {}
   },
   "outputs": [],
   "source": [
    "# 学習のループ\n",
    "for epoch in range(n_epoch):\n",
    "    for itr, data in enumerate(dataloader):\n",
    "        real_image = data[0].to(device)     # 元画像\n",
    "        real_label = data[1].to(device)     # 元画像に対応するラベル\n",
    "        real_image_label = concat_image_label(real_image, real_label, device)   # 元画像とラベルを連結\n",
    "\n",
    "        sample_size = real_image.size(0)\n",
    "        noise = torch.randn(sample_size, nz, 1, 1, device=device)\n",
    "        fake_label = torch.randint(10, (sample_size,), dtype=torch.long, device=device)     # 贋作画像生成用のラベル\n",
    "        fake_noise_label = concat_noise_label(noise, fake_label, device)    # ノイズとラベルを連結\n",
    "        \n",
    "        real_target = torch.full((sample_size,), 1., device=device)\n",
    "        fake_target = torch.full((sample_size,), 0., device=device)\n",
    "\n",
    "        ############################\n",
    "        # 識別器Dの更新\n",
    "        ###########################\n",
    "        netD.zero_grad()\n",
    "\n",
    "        output = netD(real_image_label)     # 識別器Dで元画像とラベルの組み合わせに対する識別信号を出力\n",
    "        errD_real = criterion(output, real_target)        \n",
    "        D_x = output.mean().item()\n",
    "\n",
    "        fake_image = netG(fake_noise_label)     # 生成器Gでラベルに対応した贋作画像を生成\n",
    "        fake_image_label = concat_image_label(fake_image, fake_label, device)   # 贋作画像とラベルを連結\n",
    "\n",
    "        output = netD(fake_image_label.detach())    # 識別器Dで贋作画像とラベルの組み合わせに対する識別信号を出力\n",
    "        errD_fake = criterion(output, fake_target)\n",
    "        D_G_z1 = output.mean().item()\n",
    "\n",
    "        errD = errD_real + errD_fake\n",
    "        errD.backward()\n",
    "        optimizerD.step()\n",
    "\n",
    "        ############################\n",
    "        # 生成器Gの更新\n",
    "        ###########################\n",
    "        netG.zero_grad()\n",
    "        \n",
    "        output = netD(fake_image_label)     # 更新した識別器Dで改めて贋作画像とラベルの組み合わせに対する識別信号を出力\n",
    "        errG = criterion(output, real_target)\n",
    "        errG.backward()\n",
    "        D_G_z2 = output.mean().item()\n",
    "        \n",
    "        optimizerG.step()\n",
    "\n",
    "        if itr % display_interval == 0:\n",
    "            print('[{}/{}][{}/{}] Loss_D: {:.3f} Loss_G: {:.3f} D(x): {:.3f} D(G(z)): {:.3f}/{:.3f}'\n",
    "                  .format(epoch + 1, n_epoch,\n",
    "                          itr + 1, len(dataloader),\n",
    "                          errD.item(), errG.item(), D_x, D_G_z1, D_G_z2))\n",
    "\n",
    "        if epoch == 0 and itr == 0:\n",
    "            vutils.save_image(real_image, '{}/real_samples.png'.format(outf),\n",
    "                              normalize=True, nrow=10)\n",
    "\n",
    "    ############################\n",
    "    # 確認用画像の生成\n",
    "    ############################\n",
    "    fake_image = netG(fixed_noise_label)    # 1エポック終了ごとに、指定したラベルに対応する贋作画像を生成する\n",
    "    vutils.save_image(fake_image.detach(), '{}/fake_samples_epoch_{:03d}.png'.format(outf, epoch + 1),\n",
    "                      normalize=True, nrow=10)\n",
    "\n",
    "    ############################\n",
    "    # モデルの保存\n",
    "    ############################\n",
    "    if (epoch + 1) % 50 == 0:\n",
    "        torch.save(netG.state_dict(), '{}/netG_epoch_{}.pth'.format(outf, epoch + 1))\n",
    "        torch.save(netD.state_dict(), '{}/netD_epoch_{}.pth'.format(outf, epoch + 1))"
   ]
  }
 ],
 "metadata": {
  "colab": {
   "name": "section6_4_wk.ipynb",
   "version": "0.3.2",
   "provenance": [],
   "collapsed_sections": []
  },
  "kernelspec": {
   "name": "python3",
   "display_name": "Python 3"
  },
  "accelerator": "GPU"
 },
 "nbformat": 4,
 "nbformat_minor": 0
}
